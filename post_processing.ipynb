{
 "cells": [
  {
   "cell_type": "code",
   "execution_count": 272,
   "metadata": {},
   "outputs": [
    {
     "name": "stdout",
     "output_type": "stream",
     "text": [
      "3\n",
      "3\n",
      "9\n"
     ]
    }
   ],
   "source": [
    "import numpy as np\n",
    "import pandas as pd\n",
    "import matplotlib.pyplot as plt\n",
    "\n",
    "##file from processor 0 and iteration 1, to get header data for making the global grid\n",
    "my_file = \"output_0_1.txt\" \n",
    "\n",
    "##read data header using pandas\n",
    "data_header = pd.read_csv(my_file, sep=\"\\s+\", header=None, comment='#', nrows=18)\n",
    "#get no of rows of processor\n",
    "rows = data_header[0][9]\n",
    "#get no of columns of processor\n",
    "cols = data_header[0][11]\n",
    "#get no of processors used\n",
    "p_nos = data_header[0][13]\n",
    "#get global imax\n",
    "imax = data_header[0][15]\n",
    "#get global jmax\n",
    "jmax = data_header[0][17]\n",
    "\n",
    "#cast variables as integers\n",
    "rows = int(rows)\n",
    "cols = int(cols)\n",
    "p_nos = int(p_nos)\n",
    "imax = int(imax)\n",
    "jmax = int(jmax)\n",
    "print(rows)\n",
    "print(cols)\n",
    "print(p_nos)\n",
    "\n"
   ]
  },
  {
   "cell_type": "code",
   "execution_count": 273,
   "metadata": {},
   "outputs": [],
   "source": [
    "import numpy as np\n",
    "\n",
    "\n",
    "grids_i = np.zeros((rows,cols), dtype=int)\n",
    "grids_j = np.zeros((rows,cols), dtype=int)\n",
    "domain =np.zeros((imax,jmax), dtype=int)\n",
    "\n",
    "file = \"output_\"\n",
    "file_end = \"_95.txt\" #the \"95\" is the iteration number, it can be changed to any other iteration number\n",
    "for p in range(p_nos):\n",
    "    fname = file + str(p) + file_end #dynamically get file name\n",
    "    foo = open(fname) #open file\n",
    "    foo.readline() #skip first line\n",
    "    imax_local = int(foo.readline()) #get imax local\n",
    "    foo.readline() #skip third line\n",
    "    jmax_local = int(foo.readline()) #get jmax local\n",
    "    foo.readline() #skip fifth line\n",
    "    id_row = int(foo.readline()) #get processor row id\n",
    "    foo.readline() #skip seventh line\n",
    "    id_col = int(foo.readline()) #get processor column id\n",
    "    foo.readline() # skip ninth line\n",
    "    p_row = int(foo.readline()) #get global number of rows\n",
    "    foo.readline() #skip eleventh line\n",
    "    p_col = int(foo.readline()) #get global number of columns\n",
    "\n",
    "    if id_row ==0:\n",
    "        grids_i[id_row, id_col] = 0 #starting from processor 0\n",
    "    if id_col ==0:\n",
    "        grids_j[id_row, id_col] = 0 #starting from processor 0\n",
    "    if (id_row<p_row-1): #check if not out of bounds\n",
    "        grids_i[id_row+1, id_col]=grids_i[id_row, id_col]+(imax_local) #get length on i-axis\n",
    "    if(id_col<p_col-1): #check if not out of bounds\n",
    "        grids_j[id_row, id_col+1]=grids_j[id_row, id_col]+(jmax_local) #get length on j-axis\n",
    "        \n",
    "    domain_local = np.loadtxt(fname, skiprows=18) #load the processor's data\n",
    "\n",
    "    for i in range (0, imax_local):\n",
    "        for j in range (0, jmax_local):\n",
    "            domain[i+grids_i[id_row, id_col], j+grids_j[id_row, id_col]]= domain_local[i][j] #fill in data from the processor\n",
    "np.savetxt('result.txt',domain,fmt='%.0f') #save to file\n"
   ]
  },
  {
   "cell_type": "code",
   "execution_count": 270,
   "metadata": {},
   "outputs": [
    {
     "data": {
      "text/plain": [
       "<matplotlib.image.AxesImage at 0x199f47397f0>"
      ]
     },
     "execution_count": 270,
     "metadata": {},
     "output_type": "execute_result"
    },
    {
     "data": {
      "image/png": "[encoded data removed]",
      "text/plain": [
       "<Figure size 432x288 with 1 Axes>"
      ]
     },
     "metadata": {},
     "output_type": "display_data"
    }
   ],
   "source": [
    "plt.imshow(domain)"
   ]
  },
  {
   "cell_type": "code",
   "execution_count": null,
   "metadata": {},
   "outputs": [],
   "source": []
  },
  {
   "cell_type": "code",
   "execution_count": null,
   "metadata": {},
   "outputs": [],
   "source": []
  }
 ],
 "metadata": {
  "kernelspec": {
   "display_name": "Python 3",
   "language": "python",
   "name": "python3"
  },
  "language_info": {
   "codemirror_mode": {
    "name": "ipython",
    "version": 3
   },
   "file_extension": ".py",
   "mimetype": "text/x-python",
   "name": "python",
   "nbconvert_exporter": "python",
   "pygments_lexer": "ipython3",
   "version": "3.6.5"
  }
 },
 "nbformat": 4,
 "nbformat_minor": 2
}
